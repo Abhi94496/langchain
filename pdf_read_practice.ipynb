{
 "cells": [
  {
   "cell_type": "code",
   "execution_count": 1,
   "metadata": {},
   "outputs": [
    {
     "name": "stderr",
     "output_type": "stream",
     "text": [
      "USER_AGENT environment variable not set, consider setting it to identify your requests.\n"
     ]
    }
   ],
   "source": [
    "from dotenv import load_dotenv\n",
    "load_dotenv()\n",
    "\n",
    "from langchain_openai import ChatOpenAI\n",
    "from langchain_core.prompts import ChatPromptTemplate\n",
    "from langchain.chains.combine_documents import create_stuff_documents_chain\n",
    "from langchain_community.document_loaders import WebBaseLoader\n",
    "from langchain.text_splitter import RecursiveCharacterTextSplitter\n",
    "from langchain_openai import OpenAIEmbeddings\n",
    "from langchain_community.vectorstores.faiss import FAISS\n",
    "from langchain.chains import create_retrieval_chain\n"
   ]
  },
  {
   "cell_type": "code",
   "execution_count": null,
   "metadata": {},
   "outputs": [],
   "source": [
    "import os\n",
    "os.environ['OPENAI_API_KEY'] = \"sk-proj-Uy-waKz2HbqxdqyTb1gUhyDaG-O6oU0YRIUJ6cm9l-Bzdq1qMHWyepOgQFMMcf5k5mFT12ulF_T3BlbkFJvpi2Gl0L387W0bihNY8VG3gWMNZNQWveqAuN8b-HMw7ZXXxu-iHoay9yvVL9Iortqsq1gfISk\"\n"
   ]
  },
  {
   "cell_type": "code",
   "execution_count": 2,
   "metadata": {},
   "outputs": [],
   "source": [
    "from PyPDF2 import PdfReader\n",
    "from langchain.embeddings.openai import OpenAIEmbeddings\n",
    "from langchain.text_splitter import CharacterTextSplitter\n",
    "from langchain.vectorstores import FAISS"
   ]
  },
  {
   "cell_type": "code",
   "execution_count": 31,
   "metadata": {},
   "outputs": [],
   "source": [
    "from langchain.document_loaders import PyPDFLoader\n",
    "\n",
    "# Load the PDF file\n",
    "loader = PyPDFLoader(\"Doctrine_of_bonafide_purchaser.pdf\")  # Replace with your PDF path\n",
    "documents = loader.load()\n"
   ]
  },
  {
   "cell_type": "code",
   "execution_count": 33,
   "metadata": {},
   "outputs": [],
   "source": [
    "from langchain.text_splitter import RecursiveCharacterTextSplitter\n",
    "\n",
    "# Split the document into chunks\n",
    "text_splitter = RecursiveCharacterTextSplitter(chunk_size=1000, chunk_overlap=100)\n",
    "chunks = text_splitter.split_documents(documents)\n"
   ]
  },
  {
   "cell_type": "code",
   "execution_count": 35,
   "metadata": {},
   "outputs": [],
   "source": [
    "from langchain.embeddings import OpenAIEmbeddings\n",
    "from langchain.vectorstores import FAISS\n",
    "\n",
    "# Initialize OpenAI Embeddings\n",
    "embedding_model = OpenAIEmbeddings()\n",
    "\n",
    "# Create FAISS vector store\n",
    "vectorstore = FAISS.from_documents(chunks, embedding=embedding_model)\n",
    "\n",
    "# Save the FAISS index (optional)\n",
    "vectorstore.save_local(\"faiss_openai_index\")\n"
   ]
  },
  {
   "cell_type": "code",
   "execution_count": 38,
   "metadata": {},
   "outputs": [
    {
     "ename": "SyntaxError",
     "evalue": "unterminated string literal (detected at line 2) (1860420562.py, line 2)",
     "output_type": "error",
     "traceback": [
      "\u001b[0;36m  Cell \u001b[0;32mIn[38], line 2\u001b[0;36m\u001b[0m\n\u001b[0;31m    query = \"What is the document about?\u001b[0m\n\u001b[0m            ^\u001b[0m\n\u001b[0;31mSyntaxError\u001b[0m\u001b[0;31m:\u001b[0m unterminated string literal (detected at line 2)\n"
     ]
    }
   ],
   "source": [
    "# Ask a question\n",
    "query = \"What is the document about?\n"
   ]
  },
  {
   "cell_type": "code",
   "execution_count": 37,
   "metadata": {},
   "outputs": [
    {
     "name": "stderr",
     "output_type": "stream",
     "text": [
      "/var/folders/1r/p7hsg4h96mn2mn7xwtkmbb080000gn/T/ipykernel_30389/180436551.py:5: LangChainDeprecationWarning: The method `BaseRetriever.get_relevant_documents` was deprecated in langchain-core 0.1.46 and will be removed in 1.0. Use :meth:`~invoke` instead.\n",
      "  retrieved_docs = retriever.get_relevant_documents(query)\n"
     ]
    },
    {
     "name": "stdout",
     "output_type": "stream",
     "text": [
      "Document 1:\n",
      "of registration of a document is with the \n",
      "State, which requires compulsory \n",
      "registration of documents so that it is not \n",
      "deprived of revenue by way of stamp duty\n",
      "\n",
      "Document 2:\n",
      "They also filed documentary evidence which \n",
      "included amongst others (i) sale deed dated \n",
      "02.12.1985, (ii) certified copy of 7/12  extract of \n",
      "suit property, (iii) mutation entry no.668, (iv)\n",
      "\n",
      "Document 3:\n",
      "Civil Appeal No. 1573 of 2023  Page 37 of 56 \n",
      " \n",
      "sides under the direction of th is Court. We have \n",
      "carefully perused the sale deed. The following \n",
      "facts may be noticeable from the said perusal: \n",
      "(i). The stamp paper had been purchased on \n",
      "29.11.1985.  \n",
      "(ii). The document was prepared and executed on \n",
      "02.12.1985 \n",
      "(iii). The document was presented before the Sub -\n",
      "Registrar on 5.12.1985. The total value of the \n",
      "stamp paper used was Rs 1,600/-.  \n",
      "(iv). The document was presented by respondent \n",
      "no.2, the vendor. \n",
      "(v). The document bears the signature of Anees \n",
      "Ismail Khoja, respondent no. 2, the witnesses  \n",
      "and also contains the respective endorsement \n",
      "by the Sub-Registrar. \n",
      "(vi). The document was impounded for non-payment \n",
      "of proper stamp duty . However, on 14.6.2011 \n",
      "the deficiency in stamp duty of Rs.2200/- along \n",
      "with penalty  of Rs.500/ - and other statutory \n",
      "payments of Rs.700/- having been paid, it was \n",
      "finally registered in Book No. 1 from pages 141-\n",
      "147.\n",
      "\n"
     ]
    }
   ],
   "source": [
    "# Convert the vector store to a retriever\n",
    "retriever = vectorstore.as_retriever(search_kwargs={\"k\": 3})\n",
    "\n",
    "# Query the retriever\n",
    "retrieved_docs = retriever.get_relevant_documents(query)\n",
    "\n",
    "# Display the retrieved documents\n",
    "for i, doc in enumerate(retrieved_docs, 1):\n",
    "    print(f\"Document {i}:\\n{doc.page_content}\\n\")\n"
   ]
  },
  {
   "cell_type": "code",
   "execution_count": 42,
   "metadata": {},
   "outputs": [
    {
     "name": "stdout",
     "output_type": "stream",
     "text": [
      "The legal analysis of the case involves the plaintiff challenging the judgment and order dated 9th, where the defendant no.2 failed to prove that they were a bona fide purchaser and in possession of the suit property. The judgment and decree in Spl. Civil Suit No.46 of 2011 were found to require interference and were set aside. The final order was made accordingly. The First Appellate Court also recorded findings in the analysis. The Supreme Court judgment emphasizes the importance of justice in remedying injustice and ensuring that even the weak can prevail over the strong through the legal system.\n"
     ]
    }
   ],
   "source": [
    "from langchain.chains import RetrievalQA\n",
    "from langchain.chat_models import ChatOpenAI\n",
    "\n",
    "\n",
    "# Step 2: Initialize the OpenAI LLM\n",
    "llm = ChatOpenAI(model=\"gpt-3.5-turbo\", temperature=0)\n",
    "\n",
    "# Step 3: Create a RetrievalQA chain\n",
    "qa_chain = RetrievalQA.from_chain_type(llm=llm, retriever=retriever)\n",
    "\n",
    "# Step 4: Ask a question\n",
    "query = \"what is the legal analysis of the case\"\n",
    "response = qa_chain.run(query)\n",
    "\n",
    "# Step 5: Print the response\n",
    "print(response)\n"
   ]
  },
  {
   "cell_type": "code",
   "execution_count": 43,
   "metadata": {},
   "outputs": [],
   "source": [
    "prompt = ChatPromptTemplate.from_messages([\n",
    "        (\"system\", \"i need to extract the info from following phrase.\\n formating instructions : {format_inst}\"),\n",
    "        (\"human\", \"{phrase}\")\n",
    "         ])"
   ]
  },
  {
   "cell_type": "code",
   "execution_count": 44,
   "metadata": {},
   "outputs": [
    {
     "data": {
      "text/plain": [
       "ChatPromptTemplate(input_variables=['format_inst', 'phrase'], input_types={}, partial_variables={}, messages=[SystemMessagePromptTemplate(prompt=PromptTemplate(input_variables=['format_inst'], input_types={}, partial_variables={}, template='i need to extract the info from following phrase.\\n formating instructions : {format_inst}'), additional_kwargs={}), HumanMessagePromptTemplate(prompt=PromptTemplate(input_variables=['phrase'], input_types={}, partial_variables={}, template='{phrase}'), additional_kwargs={})])"
      ]
     },
     "execution_count": 44,
     "metadata": {},
     "output_type": "execute_result"
    }
   ],
   "source": [
    "prompt"
   ]
  },
  {
   "cell_type": "code",
   "execution_count": 3,
   "metadata": {},
   "outputs": [],
   "source": [
    "from langchain.prompts import PromptTemplate"
   ]
  },
  {
   "cell_type": "code",
   "execution_count": 4,
   "metadata": {},
   "outputs": [],
   "source": [
    "template  = PromptTemplate(input_variables = [\"age\"],template=\"my name is abhishek and  i am {age} years old\")"
   ]
  },
  {
   "cell_type": "code",
   "execution_count": 5,
   "metadata": {},
   "outputs": [
    {
     "data": {
      "text/plain": [
       "'my name is abhishek and  i am 20 years old'"
      ]
     },
     "execution_count": 5,
     "metadata": {},
     "output_type": "execute_result"
    }
   ],
   "source": [
    "prompt  = template.format(age = '20')\n",
    "prompt"
   ]
  },
  {
   "cell_type": "code",
   "execution_count": null,
   "metadata": {},
   "outputs": [],
   "source": []
  },
  {
   "cell_type": "code",
   "execution_count": null,
   "metadata": {},
   "outputs": [],
   "source": []
  },
  {
   "cell_type": "code",
   "execution_count": null,
   "metadata": {},
   "outputs": [],
   "source": []
  }
 ],
 "metadata": {
  "kernelspec": {
   "display_name": "myenv",
   "language": "python",
   "name": "python3"
  },
  "language_info": {
   "codemirror_mode": {
    "name": "ipython",
    "version": 3
   },
   "file_extension": ".py",
   "mimetype": "text/x-python",
   "name": "python",
   "nbconvert_exporter": "python",
   "pygments_lexer": "ipython3",
   "version": "3.13.0"
  }
 },
 "nbformat": 4,
 "nbformat_minor": 2
}
